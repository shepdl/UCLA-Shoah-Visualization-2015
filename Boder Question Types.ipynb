{
 "cells": [
  {
   "cell_type": "markdown",
   "metadata": {},
   "source": [
    "# 1. Starting the research question"
   ]
  },
  {
   "cell_type": "markdown",
   "metadata": {},
   "source": [
    "### 1.1 Import Data and Packages"
   ]
  },
  {
   "cell_type": "code",
   "execution_count": 1,
   "metadata": {},
   "outputs": [],
   "source": [
    "import pandas as pd\n",
    "import numpy as np"
   ]
  },
  {
   "cell_type": "code",
   "execution_count": 2,
   "metadata": {},
   "outputs": [],
   "source": [
    "df = pd.read_csv(\"boder_english_questions.csv\") # see Boder_q_a in the data link below"
   ]
  },
  {
   "cell_type": "markdown",
   "metadata": {},
   "source": [
    "Data: https://docs.google.com/spreadsheets/d/1yie_kXDaWOnuLV6UOi65qWAAgtWjvBbSilumxMKtRDU/edit#gid=0"
   ]
  },
  {
   "cell_type": "code",
   "execution_count": 3,
   "metadata": {},
   "outputs": [
    {
     "data": {
      "text/html": [
       "<div>\n",
       "<style scoped>\n",
       "    .dataframe tbody tr th:only-of-type {\n",
       "        vertical-align: middle;\n",
       "    }\n",
       "\n",
       "    .dataframe tbody tr th {\n",
       "        vertical-align: top;\n",
       "    }\n",
       "\n",
       "    .dataframe thead th {\n",
       "        text-align: right;\n",
       "    }\n",
       "</style>\n",
       "<table border=\"1\" class=\"dataframe\">\n",
       "  <thead>\n",
       "    <tr style=\"text-align: right;\">\n",
       "      <th></th>\n",
       "      <th>id_new</th>\n",
       "      <th>sent_num</th>\n",
       "      <th>words</th>\n",
       "    </tr>\n",
       "  </thead>\n",
       "  <tbody>\n",
       "    <tr>\n",
       "      <th>0</th>\n",
       "      <td>1</td>\n",
       "      <td>5</td>\n",
       "      <td>Let me tell you frankly [?]: Do not tell me so...</td>\n",
       "    </tr>\n",
       "    <tr>\n",
       "      <th>1</th>\n",
       "      <td>1</td>\n",
       "      <td>7</td>\n",
       "      <td>. . . until today. But to you personally. Wher...</td>\n",
       "    </tr>\n",
       "    <tr>\n",
       "      <th>2</th>\n",
       "      <td>1</td>\n",
       "      <td>9</td>\n",
       "      <td>How old were you then? What grade were you in ...</td>\n",
       "    </tr>\n",
       "    <tr>\n",
       "      <th>3</th>\n",
       "      <td>1</td>\n",
       "      <td>11</td>\n",
       "      <td>What means \"first grade\"? The highest grade?</td>\n",
       "    </tr>\n",
       "    <tr>\n",
       "      <th>4</th>\n",
       "      <td>1</td>\n",
       "      <td>13</td>\n",
       "      <td>. . . of the \"Volks-\"?</td>\n",
       "    </tr>\n",
       "  </tbody>\n",
       "</table>\n",
       "</div>"
      ],
      "text/plain": [
       "   id_new  sent_num                                              words\n",
       "0       1         5  Let me tell you frankly [?]: Do not tell me so...\n",
       "1       1         7  . . . until today. But to you personally. Wher...\n",
       "2       1         9  How old were you then? What grade were you in ...\n",
       "3       1        11       What means \"first grade\"? The highest grade?\n",
       "4       1        13                             . . . of the \"Volks-\"?"
      ]
     },
     "execution_count": 3,
     "metadata": {},
     "output_type": "execute_result"
    }
   ],
   "source": [
    "df.head()"
   ]
  },
  {
   "cell_type": "markdown",
   "metadata": {},
   "source": [
    "### 1.2 Plan"
   ]
  },
  {
   "cell_type": "markdown",
   "metadata": {},
   "source": [
    "1. Review the literature and source\n",
    "2. Clean data\n",
    "3. Use traditional ways of categorizing questions\n",
    "4. Use algorithms in others' publications to categorize questions\n",
    "5. Compare the above two methods and find out a suitable way for our research purpose\n",
    "    - need to be interpretable\n",
    "    - need to be precise\n",
    "    - need to be able to deal with translated materials"
   ]
  },
  {
   "cell_type": "markdown",
   "metadata": {},
   "source": [
    "### 1.3 Literature/Source Review"
   ]
  },
  {
   "cell_type": "markdown",
   "metadata": {},
   "source": [
    "- Github Topic of \"question classifier\": (original: https://github.com/topics/question-classifier)\n",
    "    \n",
    "    - Question-Classification as what, when, who, affirmation, unknown https://github.com/swapkh91/Question-Classification (this one is useful for our topic, but is built in Python 2.7 and need conversion)\n",
    "    - Question Type Classification https://github.com/ankushbhatia2/QuestionTypeClassification (related to the one above)\n",
    "    - Question Classifier https://github.com/shilpavijay/Question-Classifier (related to the one above)\n",
    "    - question-classifier https://github.com/rahulgurnani/question-classification (related to the one above, may have some new categories)\n",
    "    \n",
    "    The Above four repos briefly represent what others have done in this field. Also:\n",
    "    \n",
    "    - Recurrent Convolutional Neural Networks for Chinese Question Classification on BQuLD https://github.com/tim5go/cnn-question-classification-keras (maybe useful in further analysis in Shoah Foundation Questions)\n",
    "\n",
    "\n",
    "- Post: NLP: Question Classification using Support Vector Machines https://shirishkadam.com/2017/07/03/nlp-question-classification-using-support-vector-machines-spacyscikit-learnpandas/\n",
    "    \n",
    "    Feature extractions:\n",
    "    - WH-word: The WH-word in a question holds a lot of information about the intent of the question and what basically it is trying to seek. (What, When, How, Where and so on)\n",
    "    - WH-word POS: The part of speech of the WH-word (wh-determiner, wh-pronoun, wh-adverb)\n",
    "    - POS of the word next to WH-word: The part of speech of the word adjacent to WH-word or the word at 1st position in the bigram (0th being the WH-word).\n",
    "    - Root POS: The part of speech of the word at the root of the dependency parse tree.\n",
    "    \n",
    "  Also, we can get some general idea of this field from this post.\n",
    "    \n",
    "    \n",
    "- Related publications:\n",
    "    \n",
    "    - https://www.aclweb.org/anthology/D08-1097\n",
    "    - https://shirishkadam.files.wordpress.com/2017/07/a-cognitive-approach-in-question-answering-system.pdf"
   ]
  },
  {
   "cell_type": "markdown",
   "metadata": {},
   "source": [
    "# 2. Traditional way of human inputted rules"
   ]
  },
  {
   "cell_type": "markdown",
   "metadata": {},
   "source": [
    "### 2.1 Data Cleaning and Wrangling"
   ]
  },
  {
   "cell_type": "code",
   "execution_count": 4,
   "metadata": {},
   "outputs": [],
   "source": [
    "# change all the \"?\" inside of \"[]\" to \"(q)\"\n",
    "# => change all the \"?]\" to \"(q)]\"\n",
    "df.words = df.words.apply(lambda x: x.replace(\"?]\", \"(q)]\"))"
   ]
  },
  {
   "cell_type": "code",
   "execution_count": 9,
   "metadata": {},
   "outputs": [],
   "source": [
    "# add word count first\n",
    "# exclude all the notes, i.e. inside []\n",
    "df[\"count\"]=df.words.apply(lambda x: x.count(\" \")-x.count(\"[\")+1)"
   ]
  },
  {
   "cell_type": "code",
   "execution_count": 16,
   "metadata": {},
   "outputs": [
    {
     "data": {
      "text/html": [
       "<div>\n",
       "<style scoped>\n",
       "    .dataframe tbody tr th:only-of-type {\n",
       "        vertical-align: middle;\n",
       "    }\n",
       "\n",
       "    .dataframe tbody tr th {\n",
       "        vertical-align: top;\n",
       "    }\n",
       "\n",
       "    .dataframe thead th {\n",
       "        text-align: right;\n",
       "    }\n",
       "</style>\n",
       "<table border=\"1\" class=\"dataframe\">\n",
       "  <thead>\n",
       "    <tr style=\"text-align: right;\">\n",
       "      <th></th>\n",
       "      <th>id_new</th>\n",
       "      <th>sent_num</th>\n",
       "      <th>words</th>\n",
       "      <th>count</th>\n",
       "    </tr>\n",
       "  </thead>\n",
       "  <tbody>\n",
       "    <tr>\n",
       "      <th>7000</th>\n",
       "      <td>64</td>\n",
       "      <td>407</td>\n",
       "      <td>[Apart(q)]?</td>\n",
       "      <td>0</td>\n",
       "    </tr>\n",
       "    <tr>\n",
       "      <th>7019</th>\n",
       "      <td>64</td>\n",
       "      <td>503</td>\n",
       "      <td>[Who(q)]?</td>\n",
       "      <td>0</td>\n",
       "    </tr>\n",
       "    <tr>\n",
       "      <th>13057</th>\n",
       "      <td>118</td>\n",
       "      <td>121</td>\n",
       "      <td>[unintelligible]?</td>\n",
       "      <td>0</td>\n",
       "    </tr>\n",
       "    <tr>\n",
       "      <th>13068</th>\n",
       "      <td>118</td>\n",
       "      <td>149</td>\n",
       "      <td>[unintelligible]?</td>\n",
       "      <td>0</td>\n",
       "    </tr>\n",
       "    <tr>\n",
       "      <th>13071</th>\n",
       "      <td>118</td>\n",
       "      <td>165</td>\n",
       "      <td>[unintelligible]?</td>\n",
       "      <td>0</td>\n",
       "    </tr>\n",
       "    <tr>\n",
       "      <th>13083</th>\n",
       "      <td>118</td>\n",
       "      <td>198</td>\n",
       "      <td>[unintelligible]?</td>\n",
       "      <td>0</td>\n",
       "    </tr>\n",
       "    <tr>\n",
       "      <th>13265</th>\n",
       "      <td>18</td>\n",
       "      <td>380</td>\n",
       "      <td>[unintelligible]?</td>\n",
       "      <td>0</td>\n",
       "    </tr>\n",
       "  </tbody>\n",
       "</table>\n",
       "</div>"
      ],
      "text/plain": [
       "       id_new  sent_num              words  count\n",
       "7000       64       407        [Apart(q)]?      0\n",
       "7019       64       503          [Who(q)]?      0\n",
       "13057     118       121  [unintelligible]?      0\n",
       "13068     118       149  [unintelligible]?      0\n",
       "13071     118       165  [unintelligible]?      0\n",
       "13083     118       198  [unintelligible]?      0\n",
       "13265      18       380  [unintelligible]?      0"
      ]
     },
     "execution_count": 16,
     "metadata": {},
     "output_type": "execute_result"
    }
   ],
   "source": [
    "df[df[\"count\"]==0]"
   ]
  },
  {
   "cell_type": "markdown",
   "metadata": {},
   "source": [
    "These doesn't seems like meaningful questions. If we can confirm, then we can delete them."
   ]
  },
  {
   "cell_type": "markdown",
   "metadata": {},
   "source": [
    "### 2.2 Short questions - usually used to confirm or let interviewee to go on"
   ]
  },
  {
   "cell_type": "code",
   "execution_count": 14,
   "metadata": {},
   "outputs": [],
   "source": [
    "import seaborn as sns"
   ]
  },
  {
   "cell_type": "code",
   "execution_count": 15,
   "metadata": {},
   "outputs": [
    {
     "data": {
      "image/png": "[encoded data removed]",
      "text/plain": [
       "<Figure size 432x288 with 1 Axes>"
      ]
     },
     "metadata": {},
     "output_type": "display_data"
    }
   ],
   "source": [
    "sns.set(style=\"darkgrid\")\n",
    "ax = sns.countplot(x=\"count\", data=df)"
   ]
  },
  {
   "cell_type": "code",
   "execution_count": 17,
   "metadata": {},
   "outputs": [
    {
     "data": {
      "text/plain": [
       "7.686763591263006"
      ]
     },
     "execution_count": 17,
     "metadata": {},
     "output_type": "execute_result"
    }
   ],
   "source": [
    "df[\"count\"].mean()"
   ]
  },
  {
   "cell_type": "code",
   "execution_count": 19,
   "metadata": {},
   "outputs": [
    {
     "data": {
      "text/plain": [
       "6.0"
      ]
     },
     "execution_count": 19,
     "metadata": {},
     "output_type": "execute_result"
    }
   ],
   "source": [
    "df[\"count\"].median()"
   ]
  },
  {
   "cell_type": "code",
   "execution_count": 18,
   "metadata": {},
   "outputs": [
    {
     "data": {
      "text/plain": [
       "331"
      ]
     },
     "execution_count": 18,
     "metadata": {},
     "output_type": "execute_result"
    }
   ],
   "source": [
    "df[\"count\"].max()"
   ]
  },
  {
   "cell_type": "markdown",
   "metadata": {},
   "source": [
    "From the graph, we can see that:\n",
    "- the x-axis is the word count of each question and the y-axis is the number of that specific word count\n",
    "- some statistical data are shown as above. This distribution is hugely right skewed, which means most of the questions are pretty short. This might because we removed Boder's words other than questions. (this part can be easily retrieved from the original data, if needed)\n",
    "- on average, each sentence has 6 to 8 words, which is pretty short in general, while the longest sentence has 331 words. (however, this might happen because several sentences are put into the same line)"
   ]
  },
  {
   "cell_type": "markdown",
   "metadata": {},
   "source": [
    "Most of the visualizations above would come with higher resolution and more interactivity, if we draw them in Tableau. (If needed, I can then put them into Tableau) "
   ]
  },
  {
   "cell_type": "markdown",
   "metadata": {},
   "source": [
    "Note: From 2.3 to 2.5, the summary is brief. We *CANNOT* use simple human-input rules to know the exact types of the question, but the brief summary may somehow be meaningful."
   ]
  },
  {
   "cell_type": "markdown",
   "metadata": {},
   "source": [
    "### 2.3 To acquire specific information: WH questions - What, When, How, Where, Why\n",
    "These type of question has some \"priority\". We need to minus this in later types."
   ]
  },
  {
   "cell_type": "code",
   "execution_count": 25,
   "metadata": {},
   "outputs": [],
   "source": [
    "df[\"What\"] = df.words.apply(lambda x: x.count(\"what\")+x.count(\"What\"))\n",
    "df[\"When\"] = df.words.apply(lambda x: x.count(\"when\")+x.count(\"When\"))\n",
    "df[\"How\"] = df.words.apply(lambda x: x.count(\"how\")+x.count(\"How\"))\n",
    "df[\"Where\"] = df.words.apply(lambda x: x.count(\"where\")+x.count(\"Where\"))\n",
    "df[\"Why\"] = df.words.apply(lambda x: x.count(\"why\")+x.count(\"Why\"))"
   ]
  },
  {
   "cell_type": "code",
   "execution_count": 26,
   "metadata": {},
   "outputs": [],
   "source": [
    "# sum of number of WH questions\n",
    "df[\"WH\"] = df.What + df.When + df.How + df.Where"
   ]
  },
  {
   "cell_type": "code",
   "execution_count": 28,
   "metadata": {},
   "outputs": [
    {
     "data": {
      "image/png": "[encoded data removed]",
      "text/plain": [
       "<Figure size 432x288 with 1 Axes>"
      ]
     },
     "metadata": {},
     "output_type": "display_data"
    }
   ],
   "source": [
    "ax = sns.countplot(x=\"WH\", data=df)"
   ]
  },
  {
   "cell_type": "code",
   "execution_count": 29,
   "metadata": {},
   "outputs": [
    {
     "data": {
      "image/png": "[encoded data removed]",
      "text/plain": [
       "<Figure size 432x288 with 1 Axes>"
      ]
     },
     "metadata": {},
     "output_type": "display_data"
    }
   ],
   "source": [
    "ax = sns.countplot(x=\"What\", data=df)"
   ]
  },
  {
   "cell_type": "code",
   "execution_count": 30,
   "metadata": {},
   "outputs": [
    {
     "data": {
      "image/png": "[encoded data removed]",
      "text/plain": [
       "<Figure size 432x288 with 1 Axes>"
      ]
     },
     "metadata": {},
     "output_type": "display_data"
    }
   ],
   "source": [
    "ax = sns.countplot(x=\"When\", data=df)"
   ]
  },
  {
   "cell_type": "code",
   "execution_count": 31,
   "metadata": {},
   "outputs": [
    {
     "data": {
      "image/png": "[encoded data removed]",
      "text/plain": [
       "<Figure size 432x288 with 1 Axes>"
      ]
     },
     "metadata": {},
     "output_type": "display_data"
    }
   ],
   "source": [
    "ax = sns.countplot(x=\"How\", data=df)"
   ]
  },
  {
   "cell_type": "code",
   "execution_count": 32,
   "metadata": {},
   "outputs": [
    {
     "data": {
      "image/png": "[encoded data removed]",
      "text/plain": [
       "<Figure size 432x288 with 1 Axes>"
      ]
     },
     "metadata": {},
     "output_type": "display_data"
    }
   ],
   "source": [
    "ax = sns.countplot(x=\"Why\", data=df)"
   ]
  },
  {
   "cell_type": "markdown",
   "metadata": {},
   "source": [
    "### 2.4 To confirm: BE questions - Is, Are, Was, Were\n",
    "##### Warning: This is not specific, as we can not tell is they are BE verb or axiliary verb\n",
    "For example: \"Why?\" is 1 for WH and 0 for BE, \"How did you...?\" is 1 for HW and *1* for BE (which is wrong!!!) and \"Are you...?\" is 0 for WH and 1 for BE. \n",
    "Solutions:\n",
    "- A possible but not simple solution is using algorithms, as I suggested in part 1 and would be in part 3. \n",
    "- For now, we use the simple solution: count the Capital letter ones only! (this works)"
   ]
  },
  {
   "cell_type": "code",
   "execution_count": 33,
   "metadata": {},
   "outputs": [],
   "source": [
    "df[\"BE\"] = df.words.apply(lambda x: x.count(\"Is\")+x.count(\"Are\")+x.count(\"Was\")+x.count(\"Were\"))"
   ]
  },
  {
   "cell_type": "code",
   "execution_count": 34,
   "metadata": {},
   "outputs": [
    {
     "data": {
      "image/png": "[encoded data removed]",
      "text/plain": [
       "<Figure size 432x288 with 1 Axes>"
      ]
     },
     "metadata": {},
     "output_type": "display_data"
    }
   ],
   "source": [
    "ax = sns.countplot(x=\"BE\", data=df)"
   ]
  },
  {
   "cell_type": "markdown",
   "metadata": {},
   "source": [
    "### 2.5 Procedure question - Can, Could, Would, May\n",
    "For the same reason as 2.4, we only count capital initial ones."
   ]
  },
  {
   "cell_type": "code",
   "execution_count": 35,
   "metadata": {},
   "outputs": [],
   "source": [
    "df[\"Pro_q\"] = df.words.apply(lambda x: x.count(\"Can\")+x.count(\"Could\")+x.count(\"Would\")+x.count(\"May\"))"
   ]
  },
  {
   "cell_type": "code",
   "execution_count": 36,
   "metadata": {},
   "outputs": [
    {
     "data": {
      "image/png": "[encoded data removed]",
      "text/plain": [
       "<Figure size 432x288 with 1 Axes>"
      ]
     },
     "metadata": {},
     "output_type": "display_data"
    }
   ],
   "source": [
    "ax = sns.countplot(x=\"Pro_q\", data=df)"
   ]
  },
  {
   "cell_type": "markdown",
   "metadata": {},
   "source": [
    "# 3. Use algorithms  to categorize questions\n",
    "TBC...\n",
    "\n",
    "We need to decide:\n",
    "- If we want to do this?\n",
    "- How precise do we need?\n",
    "- How can we interpret?"
   ]
  },
  {
   "cell_type": "code",
   "execution_count": null,
   "metadata": {},
   "outputs": [],
   "source": []
  },
  {
   "cell_type": "code",
   "execution_count": null,
   "metadata": {},
   "outputs": [],
   "source": []
  },
  {
   "cell_type": "code",
   "execution_count": null,
   "metadata": {},
   "outputs": [],
   "source": []
  },
  {
   "cell_type": "markdown",
   "metadata": {},
   "source": [
    "# 4. Compare and Conclude\n",
    "TBC..."
   ]
  },
  {
   "cell_type": "code",
   "execution_count": null,
   "metadata": {},
   "outputs": [],
   "source": []
  },
  {
   "cell_type": "code",
   "execution_count": null,
   "metadata": {},
   "outputs": [],
   "source": []
  },
  {
   "cell_type": "code",
   "execution_count": null,
   "metadata": {},
   "outputs": [],
   "source": []
  }
 ],
 "metadata": {
  "kernelspec": {
   "display_name": "Python 3",
   "language": "python",
   "name": "python3"
  },
  "language_info": {
   "codemirror_mode": {
    "name": "ipython",
    "version": 3
   },
   "file_extension": ".py",
   "mimetype": "text/x-python",
   "name": "python",
   "nbconvert_exporter": "python",
   "pygments_lexer": "ipython3",
   "version": "3.6.4"
  }
 },
 "nbformat": 4,
 "nbformat_minor": 2
}
